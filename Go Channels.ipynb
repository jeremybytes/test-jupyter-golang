{
 "cells": [
  {
   "cell_type": "code",
   "execution_count": 1,
   "metadata": {},
   "outputs": [],
   "source": [
    "import (\n",
    "    \"fmt\"\n",
    "    \"time\"\n",
    ")\n",
    "\n",
    "type person struct {\n",
    "    ID           int       `json:\"id\"`\n",
    "    GivenName    string    `json:\"givenName\"`\n",
    "    FamilyName   string    `json:\"familyName\"`\n",
    "    StartDate    time.Time `json:\"startDate\"`\n",
    "    Rating       int       `json:\"rating\"`\n",
    "}\n",
    "\n",
    "func parseDate(input string) time.Time {\n",
    "    const dateForm = \"2006-01-02\"\n",
    "    date, _ := time.Parse(dateForm, input)\n",
    "    return date\n",
    "}\n",
    "\n",
    "func getPeople() (people []person) {\n",
    "    people = append(people, person{1, \"John\", \"Koenig\", parseDate(\"1975-10-17\"), 6})\n",
    "    people = append(people, person{2, \"Dylan\", \"Hunt\", parseDate(\"2000-10-02\"), 8})\n",
    "    people = append(people, person{3, \"Leela\", \"Turanga\", parseDate(\"1999-03-28\"), 8})\n",
    "    people = append(people, person{4, \"John\", \"Crichton\", parseDate(\"1999-03-19\"), 7})\n",
    "    people = append(people, person{5, \"Dave\", \"Lister\", parseDate(\"1988-02-15\"), 9})\n",
    "    people = append(people, person{6, \"Laura\", \"Roslin\", parseDate(\"2003-12-08\"), 6})\n",
    "    people = append(people, person{7, \"John\", \"Sheridan\", parseDate(\"1994-01-26\"), 6})\n",
    "    people = append(people, person{8, \"Dante\", \"Montana\", parseDate(\"2000-11-01\"), 5})\n",
    "    people = append(people, person{9, \"Isaac\", \"Gampu\", parseDate(\"1977-09-10\"), 4})\n",
    "    return\n",
    "}\n",
    "\n",
    "func getIds() []int {\n",
    "    p := getPeople()\n",
    "    ids := make([]int, 0, len(p))\n",
    "    for _, n := range p {\n",
    "        ids = append(ids, n.ID)\n",
    "    }\n",
    "    return ids\n",
    "}\n",
    "\n",
    "func getPerson(id int) (person, error) {\n",
    "    time.Sleep(1 * time.Second)\n",
    "    for _, n := range getPeople() {\n",
    "        if n.ID == id {\n",
    "            return n, nil\n",
    "        }\n",
    "    }\n",
    "    return person{}, fmt.Errorf(\"Cannot find Person ID %d\", id)\n",
    "}\n"
   ]
  },
  {
   "cell_type": "code",
   "execution_count": 5,
   "metadata": {},
   "outputs": [
    {
     "name": "stdout",
     "output_type": "stream",
     "text": [
      "1: John Koenig\n",
      "2: Dylan Hunt\n",
      "3: Leela Turanga\n",
      "4: John Crichton\n",
      "5: Dave Lister\n",
      "6: Laura Roslin\n",
      "7: John Sheridan\n",
      "8: Dante Montana\n",
      "9: Isaac Gampu\n",
      "Total time: 9.0037614s\n"
     ]
    }
   ],
   "source": [
    "start := time.Now()\n",
    "\n",
    "for _, id := range getIds() {\n",
    "    p, _ := getPerson(id)\n",
    "    fmt.Printf(\"%d: %s %s\\n\", id, p.GivenName, p.FamilyName)\n",
    "}\n",
    "\n",
    "elapsed := time.Since(start)\n",
    "fmt.Printf(\"Total time: %s\\n\", elapsed)\n",
    "\n",
    "{} // This is here to keep an extra output message"
   ]
  },
  {
   "cell_type": "code",
   "execution_count": 4,
   "metadata": {},
   "outputs": [
    {
     "name": "stdout",
     "output_type": "stream",
     "text": [
      "[1 2 3 4 5 6 7 8 9]\n",
      "9: Isaac Gampu\n",
      "8: Dante Montana\n",
      "2: Dylan Hunt\n",
      "5: Dave Lister\n",
      "7: John Sheridan\n",
      "6: Laura Roslin\n",
      "4: John Crichton\n",
      "1: John Koenig\n",
      "3: Leela Turanga\n",
      "Total time: 1.0071425s\n"
     ]
    }
   ],
   "source": [
    "import (\n",
    "    \"log\"\n",
    "    \"sync\"\n",
    ")\n",
    "\n",
    "start := time.Now()\n",
    "ids := getIds()\n",
    "fmt.Println(ids)\n",
    "\n",
    "var wg sync.WaitGroup\n",
    "ch := make(chan person, 10)\n",
    "for _, n := range ids {\n",
    "    wg.Add(1)\n",
    "    go func(id int) {\n",
    "        defer wg.Done()\n",
    "        p, err := getPerson(id)\n",
    "        if err != nil {\n",
    "            log.Printf(\"%d: %v\\n\", id, err)\n",
    "            return\n",
    "        }\n",
    "        ch <- p\n",
    "    }(n)\n",
    "}\n",
    "\n",
    "go func() {\n",
    "    wg.Wait()\n",
    "    close(ch)\n",
    "}()\n",
    "\n",
    "for p := range ch {\n",
    "    fmt.Printf(\"%d: %s %s\\n\", p.ID, p.GivenName, p.FamilyName)\n",
    "}\n",
    "\n",
    "elapsed := time.Since(start)\n",
    "fmt.Printf(\"Total time: %s\\n\", elapsed)\n",
    "\n",
    "{} // This is here to keep an extra output message"
   ]
  }
 ],
 "metadata": {
  "kernelspec": {
   "display_name": "Go",
   "language": "go",
   "name": "gophernotes"
  },
  "language_info": {
   "codemirror_mode": "",
   "file_extension": ".go",
   "mimetype": "",
   "name": "go",
   "nbconvert_exporter": "",
   "pygments_lexer": "",
   "version": "go1.15.7"
  }
 },
 "nbformat": 4,
 "nbformat_minor": 4
}
